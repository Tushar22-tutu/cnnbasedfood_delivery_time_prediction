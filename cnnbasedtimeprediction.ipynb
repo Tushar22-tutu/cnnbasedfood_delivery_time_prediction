{
 "cells": [
  {
   "cell_type": "code",
   "execution_count": 28,
   "id": "16bfb8c3-aa98-4cbc-b637-43ff49c40ad2",
   "metadata": {},
   "outputs": [],
   "source": [
    "import pandas as pd\n",
    "import numpy as np\n",
    "from sklearn.model_selection import train_test_split, GridSearchCV, StratifiedKFold\n",
    "from sklearn.preprocessing import StandardScaler, LabelEncoder, OneHotEncoder\n",
    "from sklearn.metrics import classification_report, confusion_matrix, roc_auc_score, roc_curve\n",
    "import seaborn as sns\n",
    "import matplotlib.pyplot as plt\n",
    "import tensorflow as tf\n",
    "from tensorflow.keras import layers, models, regularizers\n",
    "from geopy.distance import geodesic\n",
    "import os\n"
   ]
  },
  {
   "cell_type": "code",
   "execution_count": 29,
   "id": "b4fec69e-7071-4f4a-a3d4-60bdd0706765",
   "metadata": {},
   "outputs": [
    {
     "data": {
      "text/html": [
       "<div>\n",
       "<style scoped>\n",
       "    .dataframe tbody tr th:only-of-type {\n",
       "        vertical-align: middle;\n",
       "    }\n",
       "\n",
       "    .dataframe tbody tr th {\n",
       "        vertical-align: top;\n",
       "    }\n",
       "\n",
       "    .dataframe thead th {\n",
       "        text-align: right;\n",
       "    }\n",
       "</style>\n",
       "<table border=\"1\" class=\"dataframe\">\n",
       "  <thead>\n",
       "    <tr style=\"text-align: right;\">\n",
       "      <th></th>\n",
       "      <th>Order_ID</th>\n",
       "      <th>Customer_Location</th>\n",
       "      <th>Restaurant_Location</th>\n",
       "      <th>Distance</th>\n",
       "      <th>Weather_Conditions</th>\n",
       "      <th>Traffic_Conditions</th>\n",
       "      <th>Delivery_Person_Experience</th>\n",
       "      <th>Order_Priority</th>\n",
       "      <th>Order_Time</th>\n",
       "      <th>Vehicle_Type</th>\n",
       "      <th>Restaurant_Rating</th>\n",
       "      <th>Customer_Rating</th>\n",
       "      <th>Delivery_Time</th>\n",
       "      <th>Order_Cost</th>\n",
       "      <th>Tip_Amount</th>\n",
       "    </tr>\n",
       "  </thead>\n",
       "  <tbody>\n",
       "    <tr>\n",
       "      <th>0</th>\n",
       "      <td>ORD0001</td>\n",
       "      <td>(17.030479, 79.743077)</td>\n",
       "      <td>(12.358515, 85.100083)</td>\n",
       "      <td>1.57</td>\n",
       "      <td>Rainy</td>\n",
       "      <td>Medium</td>\n",
       "      <td>4</td>\n",
       "      <td>Medium</td>\n",
       "      <td>Afternoon</td>\n",
       "      <td>Car</td>\n",
       "      <td>4.1</td>\n",
       "      <td>3.0</td>\n",
       "      <td>26.22</td>\n",
       "      <td>1321.10</td>\n",
       "      <td>81.54</td>\n",
       "    </tr>\n",
       "    <tr>\n",
       "      <th>1</th>\n",
       "      <td>ORD0002</td>\n",
       "      <td>(15.398319, 86.639122)</td>\n",
       "      <td>(14.174874, 77.025606)</td>\n",
       "      <td>21.32</td>\n",
       "      <td>Cloudy</td>\n",
       "      <td>Medium</td>\n",
       "      <td>8</td>\n",
       "      <td>Low</td>\n",
       "      <td>Night</td>\n",
       "      <td>Car</td>\n",
       "      <td>4.5</td>\n",
       "      <td>4.2</td>\n",
       "      <td>62.61</td>\n",
       "      <td>152.21</td>\n",
       "      <td>29.02</td>\n",
       "    </tr>\n",
       "    <tr>\n",
       "      <th>2</th>\n",
       "      <td>ORD0003</td>\n",
       "      <td>(15.687342, 83.888808)</td>\n",
       "      <td>(19.594748, 82.048482)</td>\n",
       "      <td>6.95</td>\n",
       "      <td>Snowy</td>\n",
       "      <td>Medium</td>\n",
       "      <td>9</td>\n",
       "      <td>High</td>\n",
       "      <td>Night</td>\n",
       "      <td>Bike</td>\n",
       "      <td>3.3</td>\n",
       "      <td>3.4</td>\n",
       "      <td>48.43</td>\n",
       "      <td>1644.38</td>\n",
       "      <td>64.17</td>\n",
       "    </tr>\n",
       "    <tr>\n",
       "      <th>3</th>\n",
       "      <td>ORD0004</td>\n",
       "      <td>(20.415599, 78.046984)</td>\n",
       "      <td>(16.915906, 78.278698)</td>\n",
       "      <td>13.79</td>\n",
       "      <td>Cloudy</td>\n",
       "      <td>Low</td>\n",
       "      <td>2</td>\n",
       "      <td>Medium</td>\n",
       "      <td>Evening</td>\n",
       "      <td>Bike</td>\n",
       "      <td>3.2</td>\n",
       "      <td>3.7</td>\n",
       "      <td>111.63</td>\n",
       "      <td>541.25</td>\n",
       "      <td>79.23</td>\n",
       "    </tr>\n",
       "    <tr>\n",
       "      <th>4</th>\n",
       "      <td>ORD0005</td>\n",
       "      <td>(14.786904, 78.706532)</td>\n",
       "      <td>(15.206038, 86.203182)</td>\n",
       "      <td>6.72</td>\n",
       "      <td>Rainy</td>\n",
       "      <td>High</td>\n",
       "      <td>6</td>\n",
       "      <td>Low</td>\n",
       "      <td>Night</td>\n",
       "      <td>Bike</td>\n",
       "      <td>3.5</td>\n",
       "      <td>2.8</td>\n",
       "      <td>32.38</td>\n",
       "      <td>619.81</td>\n",
       "      <td>2.34</td>\n",
       "    </tr>\n",
       "  </tbody>\n",
       "</table>\n",
       "</div>"
      ],
      "text/plain": [
       "  Order_ID       Customer_Location     Restaurant_Location  Distance  \\\n",
       "0  ORD0001  (17.030479, 79.743077)  (12.358515, 85.100083)      1.57   \n",
       "1  ORD0002  (15.398319, 86.639122)  (14.174874, 77.025606)     21.32   \n",
       "2  ORD0003  (15.687342, 83.888808)  (19.594748, 82.048482)      6.95   \n",
       "3  ORD0004  (20.415599, 78.046984)  (16.915906, 78.278698)     13.79   \n",
       "4  ORD0005  (14.786904, 78.706532)  (15.206038, 86.203182)      6.72   \n",
       "\n",
       "  Weather_Conditions Traffic_Conditions  Delivery_Person_Experience  \\\n",
       "0              Rainy             Medium                           4   \n",
       "1             Cloudy             Medium                           8   \n",
       "2              Snowy             Medium                           9   \n",
       "3             Cloudy                Low                           2   \n",
       "4              Rainy               High                           6   \n",
       "\n",
       "  Order_Priority Order_Time Vehicle_Type  Restaurant_Rating  Customer_Rating  \\\n",
       "0         Medium  Afternoon          Car                4.1              3.0   \n",
       "1            Low      Night          Car                4.5              4.2   \n",
       "2           High      Night         Bike                3.3              3.4   \n",
       "3         Medium    Evening         Bike                3.2              3.7   \n",
       "4            Low      Night         Bike                3.5              2.8   \n",
       "\n",
       "   Delivery_Time  Order_Cost  Tip_Amount  \n",
       "0          26.22     1321.10       81.54  \n",
       "1          62.61      152.21       29.02  \n",
       "2          48.43     1644.38       64.17  \n",
       "3         111.63      541.25       79.23  \n",
       "4          32.38      619.81        2.34  "
      ]
     },
     "execution_count": 29,
     "metadata": {},
     "output_type": "execute_result"
    }
   ],
   "source": [
    "# Load dataset\n",
    "df = pd.read_csv('Food_Delivery_Time_Prediction.csv')\n",
    "df.head()\n"
   ]
  },
  {
   "cell_type": "code",
   "execution_count": 30,
   "id": "c10c1578-6387-4615-9279-3a960a2da7c9",
   "metadata": {},
   "outputs": [
    {
     "name": "stdout",
     "output_type": "stream",
     "text": [
      "Order_ID                      0\n",
      "Customer_Location             0\n",
      "Restaurant_Location           0\n",
      "Distance                      0\n",
      "Weather_Conditions            0\n",
      "Traffic_Conditions            0\n",
      "Delivery_Person_Experience    0\n",
      "Order_Priority                0\n",
      "Order_Time                    0\n",
      "Vehicle_Type                  0\n",
      "Restaurant_Rating             0\n",
      "Customer_Rating               0\n",
      "Delivery_Time                 0\n",
      "Order_Cost                    0\n",
      "Tip_Amount                    0\n",
      "dtype: int64\n"
     ]
    }
   ],
   "source": [
    "print(df.isnull().sum())"
   ]
  },
  {
   "cell_type": "code",
   "execution_count": 31,
   "id": "a2c5f90f-00c9-43a8-ba33-3334888d2f4b",
   "metadata": {},
   "outputs": [],
   "source": [
    "categorical_cols = ['Weather_Conditions', 'Traffic_Conditions', 'Order_Priority', 'Order_Time', 'Vehicle_Type']\n",
    "\n",
    "df_encoded = pd.get_dummies(df, columns=categorical_cols, drop_first=True)"
   ]
  },
  {
   "cell_type": "code",
   "execution_count": 32,
   "id": "ad420ca1-0e12-4594-bbb9-35243b40807c",
   "metadata": {},
   "outputs": [],
   "source": [
    "scaler = StandardScaler()\n",
    "numerical_cols = ['Distance', 'Delivery_Person_Experience', 'Restaurant_Rating', 'Customer_Rating', 'Order_Cost', 'Tip_Amount']\n",
    "df_encoded[numerical_cols] = scaler.fit_transform(df_encoded[numerical_cols])\n"
   ]
  },
  {
   "cell_type": "code",
   "execution_count": 33,
   "id": "5435cac0-c459-41ac-933c-31d8495a35ec",
   "metadata": {},
   "outputs": [],
   "source": [
    "def extract_lat_long(s):\n",
    "    lat, lng = s.replace('(','').replace(')','').split(',')\n",
    "    return float(lat), float(lng)\n",
    "\n",
    "df['Cust_lat'], df['Cust_long'] = zip(*df['Customer_Location'].apply(extract_lat_long))\n",
    "df['Rest_lat'], df['Rest_long'] = zip(*df['Restaurant_Location'].apply(extract_lat_long))\n",
    "\n",
    "df['Geo_Distance'] = df.apply(lambda row: geodesic((row['Cust_lat'], row['Cust_long']), (row['Rest_lat'], row['Rest_long'])).km, axis=1)\n",
    "\n"
   ]
  },
  {
   "cell_type": "code",
   "execution_count": 34,
   "id": "b48d4425-8d5a-446a-8dd0-5a13ffdda9cc",
   "metadata": {},
   "outputs": [],
   "source": [
    "rush_hour_times = ['Morning', 'Evening'] \n",
    "df['Is_Rush_Hour'] = df['Order_Time'].apply(lambda x: 1 if x in rush_hour_times else 0)\n"
   ]
  },
  {
   "cell_type": "code",
   "execution_count": 35,
   "id": "114c14c5-53fe-4174-8644-c0be47472123",
   "metadata": {},
   "outputs": [],
   "source": [
    "threshold = df['Delivery_Time'].median()\n",
    "df['Target'] = (df['Delivery_Time'] <= threshold).map({True: 'Fast', False: 'Delayed'})\n",
    "label_encoder = LabelEncoder()\n",
    "df['Target_Label'] = label_encoder.fit_transform(df['Target'])  # Fast=1, Delayed=0\n"
   ]
  },
  {
   "cell_type": "code",
   "execution_count": 36,
   "id": "151a80cb-a309-4627-adb1-29dce6c2a9de",
   "metadata": {},
   "outputs": [],
   "source": [
    "def location_to_image(row, size=32):\n",
    "    img = np.zeros((size, size), dtype=np.float32)\n",
    "    x1 = int(size * ((row['Cust_lat'] + 90) / 180))\n",
    "    y1 = int(size * ((row['Cust_long'] + 180) / 360))\n",
    "    x2 = int(size * ((row['Rest_lat'] + 90) / 180))\n",
    "    y2 = int(size * ((row['Rest_long'] + 180) / 360))\n",
    "    img[x1, y1] = 1.0\n",
    "    img[x2, y2] = 1.0\n",
    "    return img\n",
    "\n",
    "df['loc_image'] = df.apply(location_to_image, axis=1)\n",
    "X_img = np.stack(df['loc_image'].values)\n",
    "y = df['Target_Label'].values\n"
   ]
  },
  {
   "cell_type": "code",
   "execution_count": 37,
   "id": "8832518a-405b-4c7a-80b1-0467745fad4f",
   "metadata": {},
   "outputs": [],
   "source": [
    "model = models.Sequential([\n",
    "    layers.Input(shape=(32, 32, 1)),\n",
    "    layers.Conv2D(16, (3,3), activation='relu'),\n",
    "    layers.MaxPooling2D((2,2)),\n",
    "    layers.Conv2D(32, (3,3), activation='relu'),\n",
    "    layers.MaxPooling2D((2,2)),\n",
    "    layers.Flatten(),\n",
    "    layers.Dense(32, activation='relu'),\n",
    "    layers.Dense(1, activation='sigmoid')\n",
    "])\n",
    "model.compile(optimizer='adam', loss='binary_crossentropy',\n",
    "              metrics=['accuracy', tf.keras.metrics.Precision(), tf.keras.metrics.Recall()])\n"
   ]
  },
  {
   "cell_type": "code",
   "execution_count": 38,
   "id": "b11febd4-9b92-4d3c-8504-21db25eb71e5",
   "metadata": {},
   "outputs": [],
   "source": [
    "from sklearn.model_selection import train_test_split\n",
    "X_train, X_val, y_train, y_val = train_test_split(\n",
    "    X_img, y, test_size=0.2, stratify=y, random_state=42\n",
    ")\n"
   ]
  },
  {
   "cell_type": "code",
   "execution_count": 39,
   "id": "d68da303-06d5-4778-9a03-b73bc1a02f66",
   "metadata": {},
   "outputs": [
    {
     "name": "stdout",
     "output_type": "stream",
     "text": [
      "Epoch 1/50\n",
      "\u001b[1m5/5\u001b[0m \u001b[32m━━━━━━━━━━━━━━━━━━━━\u001b[0m\u001b[37m\u001b[0m \u001b[1m8s\u001b[0m 262ms/step - accuracy: 0.5065 - loss: 0.6935 - precision_11: 0.5077 - recall_11: 0.9695 - val_accuracy: 0.5500 - val_loss: 0.6926 - val_precision_11: 0.5417 - val_recall_11: 0.6500\n",
      "Epoch 2/50\n",
      "\u001b[1m5/5\u001b[0m \u001b[32m━━━━━━━━━━━━━━━━━━━━\u001b[0m\u001b[37m\u001b[0m \u001b[1m2s\u001b[0m 62ms/step - accuracy: 0.6320 - loss: 0.6918 - precision_11: 0.6083 - recall_11: 0.6796 - val_accuracy: 0.5500 - val_loss: 0.6921 - val_precision_11: 0.5556 - val_recall_11: 0.5000\n",
      "Epoch 3/50\n",
      "\u001b[1m5/5\u001b[0m \u001b[32m━━━━━━━━━━━━━━━━━━━━\u001b[0m\u001b[37m\u001b[0m \u001b[1m0s\u001b[0m 45ms/step - accuracy: 0.5426 - loss: 0.6916 - precision_11: 0.5600 - recall_11: 0.5904 - val_accuracy: 0.5500 - val_loss: 0.6916 - val_precision_11: 0.5417 - val_recall_11: 0.6500\n",
      "Epoch 4/50\n",
      "\u001b[1m5/5\u001b[0m \u001b[32m━━━━━━━━━━━━━━━━━━━━\u001b[0m\u001b[37m\u001b[0m \u001b[1m0s\u001b[0m 32ms/step - accuracy: 0.5928 - loss: 0.6902 - precision_11: 0.5632 - recall_11: 0.7671 - val_accuracy: 0.5500 - val_loss: 0.6912 - val_precision_11: 0.5417 - val_recall_11: 0.6500\n",
      "Epoch 5/50\n",
      "\u001b[1m5/5\u001b[0m \u001b[32m━━━━━━━━━━━━━━━━━━━━\u001b[0m\u001b[37m\u001b[0m \u001b[1m0s\u001b[0m 49ms/step - accuracy: 0.5822 - loss: 0.6896 - precision_11: 0.5592 - recall_11: 0.7352 - val_accuracy: 0.5500 - val_loss: 0.6908 - val_precision_11: 0.5417 - val_recall_11: 0.6500\n",
      "Epoch 6/50\n",
      "\u001b[1m5/5\u001b[0m \u001b[32m━━━━━━━━━━━━━━━━━━━━\u001b[0m\u001b[37m\u001b[0m \u001b[1m0s\u001b[0m 50ms/step - accuracy: 0.6205 - loss: 0.6867 - precision_11: 0.6146 - recall_11: 0.5509 - val_accuracy: 0.5500 - val_loss: 0.6902 - val_precision_11: 0.5417 - val_recall_11: 0.6500\n",
      "Epoch 7/50\n",
      "\u001b[1m5/5\u001b[0m \u001b[32m━━━━━━━━━━━━━━━━━━━━\u001b[0m\u001b[37m\u001b[0m \u001b[1m0s\u001b[0m 27ms/step - accuracy: 0.6349 - loss: 0.6851 - precision_11: 0.5944 - recall_11: 0.7939 - val_accuracy: 0.5500 - val_loss: 0.6898 - val_precision_11: 0.5417 - val_recall_11: 0.6500\n",
      "Epoch 8/50\n",
      "\u001b[1m5/5\u001b[0m \u001b[32m━━━━━━━━━━━━━━━━━━━━\u001b[0m\u001b[37m\u001b[0m \u001b[1m0s\u001b[0m 36ms/step - accuracy: 0.5754 - loss: 0.6874 - precision_11: 0.5521 - recall_11: 0.7168 - val_accuracy: 0.5500 - val_loss: 0.6893 - val_precision_11: 0.5417 - val_recall_11: 0.6500\n",
      "Epoch 9/50\n",
      "\u001b[1m5/5\u001b[0m \u001b[32m━━━━━━━━━━━━━━━━━━━━\u001b[0m\u001b[37m\u001b[0m \u001b[1m0s\u001b[0m 26ms/step - accuracy: 0.6340 - loss: 0.6791 - precision_11: 0.6123 - recall_11: 0.8075 - val_accuracy: 0.5500 - val_loss: 0.6889 - val_precision_11: 0.5417 - val_recall_11: 0.6500\n",
      "Epoch 10/50\n",
      "\u001b[1m5/5\u001b[0m \u001b[32m━━━━━━━━━━━━━━━━━━━━\u001b[0m\u001b[37m\u001b[0m \u001b[1m0s\u001b[0m 59ms/step - accuracy: 0.5740 - loss: 0.6807 - precision_11: 0.5488 - recall_11: 0.6460 - val_accuracy: 0.5500 - val_loss: 0.6882 - val_precision_11: 0.5556 - val_recall_11: 0.5000\n",
      "Epoch 11/50\n",
      "\u001b[1m5/5\u001b[0m \u001b[32m━━━━━━━━━━━━━━━━━━━━\u001b[0m\u001b[37m\u001b[0m \u001b[1m0s\u001b[0m 34ms/step - accuracy: 0.6387 - loss: 0.6767 - precision_11: 0.6282 - recall_11: 0.5585 - val_accuracy: 0.5500 - val_loss: 0.6881 - val_precision_11: 0.5556 - val_recall_11: 0.5000\n",
      "Epoch 12/50\n",
      "\u001b[1m5/5\u001b[0m \u001b[32m━━━━━━━━━━━━━━━━━━━━\u001b[0m\u001b[37m\u001b[0m \u001b[1m0s\u001b[0m 27ms/step - accuracy: 0.6305 - loss: 0.6750 - precision_11: 0.6387 - recall_11: 0.4707 - val_accuracy: 0.5500 - val_loss: 0.6877 - val_precision_11: 0.5556 - val_recall_11: 0.5000\n",
      "Epoch 13/50\n",
      "\u001b[1m5/5\u001b[0m \u001b[32m━━━━━━━━━━━━━━━━━━━━\u001b[0m\u001b[37m\u001b[0m \u001b[1m0s\u001b[0m 26ms/step - accuracy: 0.6191 - loss: 0.6719 - precision_11: 0.6164 - recall_11: 0.6383 - val_accuracy: 0.5500 - val_loss: 0.6888 - val_precision_11: 0.5417 - val_recall_11: 0.6500\n",
      "Epoch 14/50\n",
      "\u001b[1m5/5\u001b[0m \u001b[32m━━━━━━━━━━━━━━━━━━━━\u001b[0m\u001b[37m\u001b[0m \u001b[1m0s\u001b[0m 30ms/step - accuracy: 0.6466 - loss: 0.6677 - precision_11: 0.6363 - recall_11: 0.7952 - val_accuracy: 0.5500 - val_loss: 0.6888 - val_precision_11: 0.5417 - val_recall_11: 0.6500\n",
      "Epoch 15/50\n",
      "\u001b[1m5/5\u001b[0m \u001b[32m━━━━━━━━━━━━━━━━━━━━\u001b[0m\u001b[37m\u001b[0m \u001b[1m0s\u001b[0m 33ms/step - accuracy: 0.6205 - loss: 0.6761 - precision_11: 0.5895 - recall_11: 0.6684 - val_accuracy: 0.5500 - val_loss: 0.6878 - val_precision_11: 0.5556 - val_recall_11: 0.5000\n",
      "Epoch 16/50\n",
      "\u001b[1m5/5\u001b[0m \u001b[32m━━━━━━━━━━━━━━━━━━━━\u001b[0m\u001b[37m\u001b[0m \u001b[1m0s\u001b[0m 27ms/step - accuracy: 0.6209 - loss: 0.6706 - precision_11: 0.6616 - recall_11: 0.5571 - val_accuracy: 0.5500 - val_loss: 0.6877 - val_precision_11: 0.5556 - val_recall_11: 0.5000\n",
      "Epoch 17/50\n",
      "\u001b[1m5/5\u001b[0m \u001b[32m━━━━━━━━━━━━━━━━━━━━\u001b[0m\u001b[37m\u001b[0m \u001b[1m0s\u001b[0m 26ms/step - accuracy: 0.6122 - loss: 0.6732 - precision_11: 0.6376 - recall_11: 0.5626 - val_accuracy: 0.5500 - val_loss: 0.6880 - val_precision_11: 0.5556 - val_recall_11: 0.5000\n",
      "Epoch 18/50\n",
      "\u001b[1m5/5\u001b[0m \u001b[32m━━━━━━━━━━━━━━━━━━━━\u001b[0m\u001b[37m\u001b[0m \u001b[1m0s\u001b[0m 28ms/step - accuracy: 0.6143 - loss: 0.6683 - precision_11: 0.6220 - recall_11: 0.5622 - val_accuracy: 0.5500 - val_loss: 0.6885 - val_precision_11: 0.5556 - val_recall_11: 0.5000\n",
      "Epoch 19/50\n",
      "\u001b[1m5/5\u001b[0m \u001b[32m━━━━━━━━━━━━━━━━━━━━\u001b[0m\u001b[37m\u001b[0m \u001b[1m0s\u001b[0m 27ms/step - accuracy: 0.6243 - loss: 0.6591 - precision_11: 0.6867 - recall_11: 0.5509 - val_accuracy: 0.5500 - val_loss: 0.6903 - val_precision_11: 0.5556 - val_recall_11: 0.5000\n",
      "Epoch 20/50\n",
      "\u001b[1m5/5\u001b[0m \u001b[32m━━━━━━━━━━━━━━━━━━━━\u001b[0m\u001b[37m\u001b[0m \u001b[1m0s\u001b[0m 26ms/step - accuracy: 0.5727 - loss: 0.6826 - precision_11: 0.5551 - recall_11: 0.5235 - val_accuracy: 0.5500 - val_loss: 0.6893 - val_precision_11: 0.5556 - val_recall_11: 0.5000\n"
     ]
    }
   ],
   "source": [
    "from tensorflow.keras.callbacks import EarlyStopping\n",
    "early_stopping=EarlyStopping( monitor='val_loss',     \n",
    "    patience=4,            \n",
    "    restore_best_weights=True)\n",
    "history = model.fit(X_train, y_train, epochs=50, batch_size=32,\n",
    "                    validation_data=(X_val, y_val),callbacks=[early_stopping])\n"
   ]
  },
  {
   "cell_type": "code",
   "execution_count": 40,
   "id": "9772eefd-c1f3-43be-9011-f5769143a446",
   "metadata": {},
   "outputs": [
    {
     "name": "stdout",
     "output_type": "stream",
     "text": [
      "\u001b[1m2/2\u001b[0m \u001b[32m━━━━━━━━━━━━━━━━━━━━\u001b[0m\u001b[37m\u001b[0m \u001b[1m0s\u001b[0m 112ms/step\n",
      "              precision    recall  f1-score   support\n",
      "\n",
      "           0       0.55      0.60      0.57        20\n",
      "           1       0.56      0.50      0.53        20\n",
      "\n",
      "    accuracy                           0.55        40\n",
      "   macro avg       0.55      0.55      0.55        40\n",
      "weighted avg       0.55      0.55      0.55        40\n",
      "\n",
      "Confusion Matrix:\n",
      " [[12  8]\n",
      " [10 10]]\n"
     ]
    },
    {
     "data": {
      "image/png": "[encoded data removed]",
      "text/plain": [
       "<Figure size 640x480 with 1 Axes>"
      ]
     },
     "metadata": {},
     "output_type": "display_data"
    }
   ],
   "source": [
    "preds = (model.predict(X_val) > 0.5).astype(int)\n",
    "print(classification_report(y_val, preds))\n",
    "print(\"Confusion Matrix:\\n\", confusion_matrix(y_val, preds))\n",
    "fpr, tpr, _ = roc_curve(y_val, preds)\n",
    "plt.plot(fpr, tpr)\n",
    "plt.xlabel(\"False Positive Rate\")\n",
    "plt.ylabel(\"True Positive Rate\")\n",
    "plt.title(\"ROC Curve\")\n",
    "plt.show()\n"
   ]
  },
  {
   "cell_type": "code",
   "execution_count": 41,
   "id": "5557b0fc-0b64-44eb-ad9a-d4a7d4463b72",
   "metadata": {},
   "outputs": [
    {
     "name": "stdout",
     "output_type": "stream",
     "text": [
      "\u001b[1m2/2\u001b[0m \u001b[32m━━━━━━━━━━━━━━━━━━━━\u001b[0m\u001b[37m\u001b[0m \u001b[1m0s\u001b[0m 137ms/step\n",
      "\u001b[1m2/2\u001b[0m \u001b[32m━━━━━━━━━━━━━━━━━━━━\u001b[0m\u001b[37m\u001b[0m \u001b[1m0s\u001b[0m 110ms/step\n",
      "\u001b[1m2/2\u001b[0m \u001b[32m━━━━━━━━━━━━━━━━━━━━\u001b[0m\u001b[37m\u001b[0m \u001b[1m0s\u001b[0m 79ms/step\n",
      "\u001b[1m2/2\u001b[0m \u001b[32m━━━━━━━━━━━━━━━━━━━━\u001b[0m\u001b[37m\u001b[0m \u001b[1m0s\u001b[0m 75ms/step\n",
      "\u001b[1m2/2\u001b[0m \u001b[32m━━━━━━━━━━━━━━━━━━━━\u001b[0m\u001b[37m\u001b[0m \u001b[1m0s\u001b[0m 91ms/step\n",
      "Mean CV Accuracy: 0.545\n",
      "Mean CV Precision: 0.542\n",
      "Mean CV Recall: 0.590\n",
      "Mean CV F1-score: 0.556\n"
     ]
    }
   ],
   "source": [
    "# 5-fold stratified cross-validation\n",
    "kf = StratifiedKFold(n_splits=5, shuffle=True, random_state=42)\n",
    "cv_acc, cv_prec, cv_recall, cv_f1 = [], [], [], []\n",
    "\n",
    "for train_index, val_index in kf.split(X_img, y):\n",
    "    Xtr, Xv = X_img[train_index], X_img[val_index]\n",
    "    ytr, yv = y[train_index], y[val_index]\n",
    "    model_cv = tf.keras.models.clone_model(model)\n",
    "    model_cv.compile(optimizer='adam', loss='binary_crossentropy',\n",
    "                     metrics=['accuracy', tf.keras.metrics.Precision(), tf.keras.metrics.Recall()])\n",
    "    model_cv.fit(Xtr, ytr, epochs=10, batch_size=32, verbose=0)\n",
    "    preds_cv = (model_cv.predict(Xv) > 0.5).astype(int)\n",
    "    report = classification_report(yv, preds_cv, output_dict=True)\n",
    "    cv_acc.append(report['accuracy'])\n",
    "    cv_prec.append(report['1']['precision'])\n",
    "    cv_recall.append(report['1']['recall'])\n",
    "    cv_f1.append(report['1']['f1-score'])\n",
    "\n",
    "print(f\"Mean CV Accuracy: {np.mean(cv_acc):.3f}\")\n",
    "print(f\"Mean CV Precision: {np.mean(cv_prec):.3f}\")\n",
    "print(f\"Mean CV Recall: {np.mean(cv_recall):.3f}\")\n",
    "print(f\"Mean CV F1-score: {np.mean(cv_f1):.3f}\")\n"
   ]
  },
  {
   "cell_type": "code",
   "execution_count": 42,
   "id": "e24c8f14-6a49-416d-a930-df131cd5906e",
   "metadata": {},
   "outputs": [
    {
     "name": "stdout",
     "output_type": "stream",
     "text": [
      "              precision    recall  f1-score   support\n",
      "\n",
      "           0       0.42      0.40      0.41        20\n",
      "           1       0.43      0.45      0.44        20\n",
      "\n",
      "    accuracy                           0.42        40\n",
      "   macro avg       0.42      0.43      0.42        40\n",
      "weighted avg       0.42      0.42      0.42        40\n",
      "\n"
     ]
    }
   ],
   "source": [
    "from sklearn.linear_model import LogisticRegression\n",
    "\n",
    "# Use tabular features for logistic regression\n",
    "X_tab = df_encoded[numerical_cols + [col for col in df_encoded.columns if any(cat in col for cat in categorical_cols)]].values\n",
    "y_tab = df['Target_Label'].values\n",
    "Xtr_tab, Xv_tab, ytr_tab, yv_tab = train_test_split(X_tab, y_tab, test_size=0.2, stratify=y_tab, random_state=42)\n",
    "\n",
    "lr = LogisticRegression(max_iter=1000)\n",
    "lr.fit(Xtr_tab, ytr_tab)\n",
    "preds_lr = lr.predict(Xv_tab)\n",
    "print(classification_report(yv_tab, preds_lr))\n"
   ]
  },
  {
   "cell_type": "code",
   "execution_count": null,
   "id": "deeb4051-759e-4db1-9e3d-fd078715ab0b",
   "metadata": {},
   "outputs": [],
   "source": []
  }
 ],
 "metadata": {
  "kernelspec": {
   "display_name": "Python 3 (ipykernel)",
   "language": "python",
   "name": "python3"
  },
  "language_info": {
   "codemirror_mode": {
    "name": "ipython",
    "version": 3
   },
   "file_extension": ".py",
   "mimetype": "text/x-python",
   "name": "python",
   "nbconvert_exporter": "python",
   "pygments_lexer": "ipython3",
   "version": "3.10.11"
  }
 },
 "nbformat": 4,
 "nbformat_minor": 5
}
